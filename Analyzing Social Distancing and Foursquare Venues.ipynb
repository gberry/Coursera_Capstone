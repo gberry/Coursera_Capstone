{
    "cells": [
        {
            "cell_type": "markdown",
            "metadata": {
                "collapsed": true
            },
            "source": "# Comparing \"Social Distancing Violation\" Reports to Social Venue Data\n##                (311 Calls Compared to Neighborhood Venues from Foursquare)"
        },
        {
            "cell_type": "markdown",
            "metadata": {},
            "source": "## Problem Description and Discussion of Background:"
        },
        {
            "cell_type": "markdown",
            "metadata": {},
            "source": "With the Covid 19 pandemic sweeping the united states a wide range of america has implemented \"social distancing\" laws relating to a restriction on the number and distance at which citizens can congregate. Enforcing this law in New York City (NYC) has been facilitated by allowing citizens to report on each other by phone, or on-line. \n\nThis has created the questions, what are the clusterings of these \"social distancing\" violation calls and what can be learned from the clusters to make both citizen reporting and police response to potential observations more effective (to save valuable emergency response resources)?"
        },
        {
            "cell_type": "markdown",
            "metadata": {},
            "source": "## Approach to Problem:"
        },
        {
            "cell_type": "markdown",
            "metadata": {},
            "source": "Using \"social distancing\" violoation data obtained from the NYC Open Data set for 311 reports and \"venue\" count data from the Foursquare API, I will cluster similar reports together and analyzed the clusters to determine if the clusters provide insight into citizen reporting / police response to these type of calls."
        },
        {
            "cell_type": "markdown",
            "metadata": {},
            "source": "## Data Requirements:"
        },
        {
            "cell_type": "markdown",
            "metadata": {},
            "source": "From the FourSquare API, I will capture: \n    - Venue categories (to obtain counts of venues (restaraunts, bars, parks) to determine characteristics of area around 311         call)\n    - latitude\n    - longitude\nFrom the NYC Open Data for 311 calls I will capture:\n    - date/time of call\n    - call source (online / phone call)\n    - resolution type (investigation ended with no resolution, investigation ended with further investigation needed, report filed)\n    - incident zip (zip code for location of potential violation)\n    - community board (sub-division of NYC borough where call was reported)\n    - borough (NYC borough where call was reported)\n    - latitude \n    - longitude\n    \nI will then join the two data sets together on latitude/longitude for analysis"
        },
        {
            "cell_type": "code",
            "execution_count": null,
            "metadata": {},
            "outputs": [],
            "source": ""
        }
    ],
    "metadata": {
        "kernelspec": {
            "display_name": "Python 3.6",
            "language": "python",
            "name": "python3"
        },
        "language_info": {
            "codemirror_mode": {
                "name": "ipython",
                "version": 3
            },
            "file_extension": ".py",
            "mimetype": "text/x-python",
            "name": "python",
            "nbconvert_exporter": "python",
            "pygments_lexer": "ipython3",
            "version": "3.6.9"
        }
    },
    "nbformat": 4,
    "nbformat_minor": 1
}